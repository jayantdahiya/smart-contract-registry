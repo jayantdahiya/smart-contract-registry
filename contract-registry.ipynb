{
 "cells": [
  {
   "cell_type": "code",
   "execution_count": 32,
   "id": "55405aae",
   "metadata": {},
   "outputs": [
    {
     "data": {
      "text/html": [
       "<div>\n",
       "<style scoped>\n",
       "    .dataframe tbody tr th:only-of-type {\n",
       "        vertical-align: middle;\n",
       "    }\n",
       "\n",
       "    .dataframe tbody tr th {\n",
       "        vertical-align: top;\n",
       "    }\n",
       "\n",
       "    .dataframe thead th {\n",
       "        text-align: right;\n",
       "    }\n",
       "</style>\n",
       "<table border=\"1\" class=\"dataframe\">\n",
       "  <thead>\n",
       "    <tr style=\"text-align: right;\">\n",
       "      <th></th>\n",
       "      <th>address</th>\n",
       "      <th>bytecode</th>\n",
       "      <th>function_sighashes</th>\n",
       "      <th>is_erc20</th>\n",
       "      <th>is_erc721</th>\n",
       "      <th>block_timestamp</th>\n",
       "      <th>block_number</th>\n",
       "      <th>block_hash</th>\n",
       "    </tr>\n",
       "  </thead>\n",
       "  <tbody>\n",
       "    <tr>\n",
       "      <th>0</th>\n",
       "      <td>0x0ef97d3e342b29c18bcbcb0426e3b5de4879c53c</td>\n",
       "      <td>0x6060604052361561008d5760e060020a600035046306...</td>\n",
       "      <td>[0x06fdde03,0x095ea7b3,0x18160ddd,0x23b872dd,0...</td>\n",
       "      <td>True</td>\n",
       "      <td>False</td>\n",
       "      <td>2017-01-07T17:16:15Z</td>\n",
       "      <td>2953240</td>\n",
       "      <td>0x2b0dca05c9c8a922018ccf54cb522b9e2a715768d0da...</td>\n",
       "    </tr>\n",
       "    <tr>\n",
       "      <th>1</th>\n",
       "      <td>0xc2eb8dc6ce9c28e9a34d91da242e87c1d67b599b</td>\n",
       "      <td>0x6080604052600436106100c5576000357c0100000000...</td>\n",
       "      <td>[0x06fdde03,0x095ea7b3,0x18160ddd,0x23b872dd,0...</td>\n",
       "      <td>True</td>\n",
       "      <td>False</td>\n",
       "      <td>2020-01-01T10:33:46Z</td>\n",
       "      <td>9195381</td>\n",
       "      <td>0x9edf9b6e92fa07370320c424a1ad5cb56458bdd15c58...</td>\n",
       "    </tr>\n",
       "    <tr>\n",
       "      <th>2</th>\n",
       "      <td>0xe002d045a781c8162e0aa3fcdb280dc4b05df187</td>\n",
       "      <td>0x6080604052600436106100a4576000357c0100000000...</td>\n",
       "      <td>[0x06fdde03,0x095ea7b3,0x18160ddd,0x23b872dd,0...</td>\n",
       "      <td>True</td>\n",
       "      <td>False</td>\n",
       "      <td>2020-01-01T13:17:02Z</td>\n",
       "      <td>9195970</td>\n",
       "      <td>0x728b32226eec7cdfe5e3509f06fcfd9ea8b0d0717f61...</td>\n",
       "    </tr>\n",
       "    <tr>\n",
       "      <th>3</th>\n",
       "      <td>0x02585e4a14da274d02df09b222d4606b10a4e940</td>\n",
       "      <td>0x606060405260043610610107576000357c0100000000...</td>\n",
       "      <td>[0x05d2035b,0x06fdde03,0x095ea7b3,0x18160ddd,0...</td>\n",
       "      <td>True</td>\n",
       "      <td>False</td>\n",
       "      <td>2017-11-09T09:57:52Z</td>\n",
       "      <td>4519171</td>\n",
       "      <td>0xcbe3a0875480b3edd237ce35eae8f77abe3564b1fdb9...</td>\n",
       "    </tr>\n",
       "    <tr>\n",
       "      <th>4</th>\n",
       "      <td>0xc814d43adfcb1e466e07eb0089e0580cfadd8d35</td>\n",
       "      <td>0x606060405236156100e35763ffffffff7c0100000000...</td>\n",
       "      <td>[0x05d2035b,0x06fdde03,0x095ea7b3,0x18160ddd,0...</td>\n",
       "      <td>True</td>\n",
       "      <td>False</td>\n",
       "      <td>2017-11-09T14:19:17Z</td>\n",
       "      <td>4520332</td>\n",
       "      <td>0x3185ee8a09a9f2d7feb655bf69561ada589ddbf14db1...</td>\n",
       "    </tr>\n",
       "  </tbody>\n",
       "</table>\n",
       "</div>"
      ],
      "text/plain": [
       "                                      address  \\\n",
       "0  0x0ef97d3e342b29c18bcbcb0426e3b5de4879c53c   \n",
       "1  0xc2eb8dc6ce9c28e9a34d91da242e87c1d67b599b   \n",
       "2  0xe002d045a781c8162e0aa3fcdb280dc4b05df187   \n",
       "3  0x02585e4a14da274d02df09b222d4606b10a4e940   \n",
       "4  0xc814d43adfcb1e466e07eb0089e0580cfadd8d35   \n",
       "\n",
       "                                            bytecode  \\\n",
       "0  0x6060604052361561008d5760e060020a600035046306...   \n",
       "1  0x6080604052600436106100c5576000357c0100000000...   \n",
       "2  0x6080604052600436106100a4576000357c0100000000...   \n",
       "3  0x606060405260043610610107576000357c0100000000...   \n",
       "4  0x606060405236156100e35763ffffffff7c0100000000...   \n",
       "\n",
       "                                  function_sighashes  is_erc20  is_erc721  \\\n",
       "0  [0x06fdde03,0x095ea7b3,0x18160ddd,0x23b872dd,0...      True      False   \n",
       "1  [0x06fdde03,0x095ea7b3,0x18160ddd,0x23b872dd,0...      True      False   \n",
       "2  [0x06fdde03,0x095ea7b3,0x18160ddd,0x23b872dd,0...      True      False   \n",
       "3  [0x05d2035b,0x06fdde03,0x095ea7b3,0x18160ddd,0...      True      False   \n",
       "4  [0x05d2035b,0x06fdde03,0x095ea7b3,0x18160ddd,0...      True      False   \n",
       "\n",
       "        block_timestamp  block_number  \\\n",
       "0  2017-01-07T17:16:15Z       2953240   \n",
       "1  2020-01-01T10:33:46Z       9195381   \n",
       "2  2020-01-01T13:17:02Z       9195970   \n",
       "3  2017-11-09T09:57:52Z       4519171   \n",
       "4  2017-11-09T14:19:17Z       4520332   \n",
       "\n",
       "                                          block_hash  \n",
       "0  0x2b0dca05c9c8a922018ccf54cb522b9e2a715768d0da...  \n",
       "1  0x9edf9b6e92fa07370320c424a1ad5cb56458bdd15c58...  \n",
       "2  0x728b32226eec7cdfe5e3509f06fcfd9ea8b0d0717f61...  \n",
       "3  0xcbe3a0875480b3edd237ce35eae8f77abe3564b1fdb9...  \n",
       "4  0x3185ee8a09a9f2d7feb655bf69561ada589ddbf14db1...  "
      ]
     },
     "execution_count": 32,
     "metadata": {},
     "output_type": "execute_result"
    }
   ],
   "source": [
    "# Importing the contract addresses file fetched from ethereum etl\n",
    "\n",
    "import pandas as pd \n",
    "\n",
    "df = pd.read_csv('./contracts_ERC20.csv')\n",
    "\n",
    "df.head()"
   ]
  },
  {
   "cell_type": "code",
   "execution_count": 55,
   "id": "8b5321c1",
   "metadata": {},
   "outputs": [
    {
     "data": {
      "text/html": [
       "<div>\n",
       "<style scoped>\n",
       "    .dataframe tbody tr th:only-of-type {\n",
       "        vertical-align: middle;\n",
       "    }\n",
       "\n",
       "    .dataframe tbody tr th {\n",
       "        vertical-align: top;\n",
       "    }\n",
       "\n",
       "    .dataframe thead th {\n",
       "        text-align: right;\n",
       "    }\n",
       "</style>\n",
       "<table border=\"1\" class=\"dataframe\">\n",
       "  <thead>\n",
       "    <tr style=\"text-align: right;\">\n",
       "      <th></th>\n",
       "      <th>address</th>\n",
       "      <th>abi-json</th>\n",
       "    </tr>\n",
       "  </thead>\n",
       "  <tbody>\n",
       "  </tbody>\n",
       "</table>\n",
       "</div>"
      ],
      "text/plain": [
       "Empty DataFrame\n",
       "Columns: [address, abi-json]\n",
       "Index: []"
      ]
     },
     "execution_count": 55,
     "metadata": {},
     "output_type": "execute_result"
    }
   ],
   "source": [
    "#fetching contract abi-json from etherscan api\n",
    "\n",
    "import requests\n",
    "\n",
    "registry = pd.DataFrame(columns=['address','abi-json'])\n",
    "\n",
    "def get_contract_info(contract_address):\n",
    "    url = 'https://api.etherscan.io/api?module=contract&action=getabi&address={}&apikey=MEYEGN5KWUNXBGCJ1NTZ663M53MTETSU1E'.format(contract_address)\n",
    "    response = requests.get(url)\n",
    "    return response.json()\n",
    "\n",
    "\n",
    "# for i in range(len(df)):\n",
    "#     contract_address = df.iloc[i]['address']\n",
    "#     contract_abi = get_contract_info(contract_address)\n",
    "#     registry = registry.append({'address':contract_address,'abi-json':contract_abi},ignore_index=True)\n",
    "\n",
    "\n",
    "\n",
    "registry.head()"
   ]
  },
  {
   "cell_type": "code",
   "execution_count": 56,
   "id": "97861b0e",
   "metadata": {},
   "outputs": [
    {
     "data": {
      "text/plain": [
       "0"
      ]
     },
     "execution_count": 56,
     "metadata": {},
     "output_type": "execute_result"
    }
   ],
   "source": [
    "len(registry)"
   ]
  },
  {
   "cell_type": "code",
   "execution_count": 42,
   "id": "e638c262",
   "metadata": {},
   "outputs": [],
   "source": [
    "# creating a sql database to store the contract abi-json\n",
    "\n",
    "import sqlite3\n",
    "\n",
    "conn = sqlite3.connect('contract_registry.db')\n",
    "c = conn.cursor()\n",
    "\n",
    "c.execute(\"CREATE TABLE IF NOT EXISTS contract_registry (address text, abi_json text )\")\n",
    "conn.commit()"
   ]
  },
  {
   "cell_type": "code",
   "execution_count": 44,
   "id": "002271f0",
   "metadata": {},
   "outputs": [],
   "source": [
    "#convert datatype of resistry dataframe to string\n",
    "\n",
    "registry['abi-json'] = registry['abi-json'].astype(str)\n",
    "registry['address'] = registry['address'].astype(str)"
   ]
  },
  {
   "cell_type": "code",
   "execution_count": 54,
   "id": "deb418bf",
   "metadata": {},
   "outputs": [],
   "source": [
    "# inserting the contract abi-json into the database\n",
    "\n",
    "# for i in range(len(registry)):\n",
    "#     c.execute(\"INSERT INTO contract_registry (address, abi_json) VALUES (?,?)\",(registry.iloc[i]['address'],registry.iloc[i]['abi-json']))\n",
    "#     conn.commit()\n",
    "\n",
    "# fetching the contract abi-json from the database\n",
    "\n",
    "# c.execute(\"SELECT * FROM contract_registry\")\n",
    "# print(c.fetchall())"
   ]
  },
  {
   "cell_type": "code",
   "execution_count": 53,
   "id": "565f3554",
   "metadata": {},
   "outputs": [
    {
     "name": "stdout",
     "output_type": "stream",
     "text": [
      "[('{\\'status\\': \\'1\\', \\'message\\': \\'OK\\', \\'result\\': \\'[{\"constant\":true,\"inputs\":[],\"name\":\"name\",\"outputs\":[{\"name\":\"\",\"type\":\"string\"}],\"payable\":false,\"type\":\"function\"},{\"constant\":false,\"inputs\":[{\"name\":\"_spender\",\"type\":\"address\"},{\"name\":\"_value\",\"type\":\"uint256\"}],\"name\":\"approve\",\"outputs\":[{\"name\":\"success\",\"type\":\"bool\"}],\"payable\":false,\"type\":\"function\"},{\"constant\":true,\"inputs\":[],\"name\":\"totalSupply\",\"outputs\":[{\"name\":\"\",\"type\":\"uint256\"}],\"payable\":false,\"type\":\"function\"},{\"constant\":false,\"inputs\":[{\"name\":\"_from\",\"type\":\"address\"},{\"name\":\"_to\",\"type\":\"address\"},{\"name\":\"_value\",\"type\":\"uint256\"}],\"name\":\"transferFrom\",\"outputs\":[{\"name\":\"success\",\"type\":\"bool\"}],\"payable\":false,\"type\":\"function\"},{\"constant\":true,\"inputs\":[],\"name\":\"decimals\",\"outputs\":[{\"name\":\"\",\"type\":\"uint8\"}],\"payable\":false,\"type\":\"function\"},{\"constant\":true,\"inputs\":[],\"name\":\"standard\",\"outputs\":[{\"name\":\"\",\"type\":\"string\"}],\"payable\":false,\"type\":\"function\"},{\"constant\":true,\"inputs\":[{\"name\":\"\",\"type\":\"address\"}],\"name\":\"balanceOf\",\"outputs\":[{\"name\":\"\",\"type\":\"uint256\"}],\"payable\":false,\"type\":\"function\"},{\"constant\":true,\"inputs\":[],\"name\":\"symbol\",\"outputs\":[{\"name\":\"\",\"type\":\"string\"}],\"payable\":false,\"type\":\"function\"},{\"constant\":false,\"inputs\":[{\"name\":\"_to\",\"type\":\"address\"},{\"name\":\"_value\",\"type\":\"uint256\"}],\"name\":\"transfer\",\"outputs\":[],\"payable\":false,\"type\":\"function\"},{\"constant\":false,\"inputs\":[{\"name\":\"_spender\",\"type\":\"address\"},{\"name\":\"_value\",\"type\":\"uint256\"},{\"name\":\"_extraData\",\"type\":\"bytes\"}],\"name\":\"approveAndCall\",\"outputs\":[{\"name\":\"success\",\"type\":\"bool\"}],\"payable\":false,\"type\":\"function\"},{\"constant\":true,\"inputs\":[{\"name\":\"\",\"type\":\"address\"},{\"name\":\"\",\"type\":\"address\"}],\"name\":\"allowance\",\"outputs\":[{\"name\":\"\",\"type\":\"uint256\"}],\"payable\":false,\"type\":\"function\"},{\"inputs\":[{\"name\":\"initialSupply\",\"type\":\"uint256\"},{\"name\":\"tokenName\",\"type\":\"string\"},{\"name\":\"decimalUnits\",\"type\":\"uint8\"},{\"name\":\"tokenSymbol\",\"type\":\"string\"}],\"payable\":false,\"type\":\"constructor\"},{\"payable\":false,\"type\":\"fallback\"},{\"anonymous\":false,\"inputs\":[{\"indexed\":true,\"name\":\"from\",\"type\":\"address\"},{\"indexed\":true,\"name\":\"to\",\"type\":\"address\"},{\"indexed\":false,\"name\":\"value\",\"type\":\"uint256\"}],\"name\":\"Transfer\",\"type\":\"event\"}]\\'}',), ('{\\'status\\': \\'1\\', \\'message\\': \\'OK\\', \\'result\\': \\'[{\"constant\":true,\"inputs\":[],\"name\":\"name\",\"outputs\":[{\"name\":\"\",\"type\":\"string\"}],\"payable\":false,\"type\":\"function\"},{\"constant\":false,\"inputs\":[{\"name\":\"_spender\",\"type\":\"address\"},{\"name\":\"_value\",\"type\":\"uint256\"}],\"name\":\"approve\",\"outputs\":[{\"name\":\"success\",\"type\":\"bool\"}],\"payable\":false,\"type\":\"function\"},{\"constant\":true,\"inputs\":[],\"name\":\"totalSupply\",\"outputs\":[{\"name\":\"\",\"type\":\"uint256\"}],\"payable\":false,\"type\":\"function\"},{\"constant\":false,\"inputs\":[{\"name\":\"_from\",\"type\":\"address\"},{\"name\":\"_to\",\"type\":\"address\"},{\"name\":\"_value\",\"type\":\"uint256\"}],\"name\":\"transferFrom\",\"outputs\":[{\"name\":\"success\",\"type\":\"bool\"}],\"payable\":false,\"type\":\"function\"},{\"constant\":true,\"inputs\":[],\"name\":\"decimals\",\"outputs\":[{\"name\":\"\",\"type\":\"uint8\"}],\"payable\":false,\"type\":\"function\"},{\"constant\":true,\"inputs\":[],\"name\":\"standard\",\"outputs\":[{\"name\":\"\",\"type\":\"string\"}],\"payable\":false,\"type\":\"function\"},{\"constant\":true,\"inputs\":[{\"name\":\"\",\"type\":\"address\"}],\"name\":\"balanceOf\",\"outputs\":[{\"name\":\"\",\"type\":\"uint256\"}],\"payable\":false,\"type\":\"function\"},{\"constant\":true,\"inputs\":[],\"name\":\"symbol\",\"outputs\":[{\"name\":\"\",\"type\":\"string\"}],\"payable\":false,\"type\":\"function\"},{\"constant\":false,\"inputs\":[{\"name\":\"_to\",\"type\":\"address\"},{\"name\":\"_value\",\"type\":\"uint256\"}],\"name\":\"transfer\",\"outputs\":[],\"payable\":false,\"type\":\"function\"},{\"constant\":false,\"inputs\":[{\"name\":\"_spender\",\"type\":\"address\"},{\"name\":\"_value\",\"type\":\"uint256\"},{\"name\":\"_extraData\",\"type\":\"bytes\"}],\"name\":\"approveAndCall\",\"outputs\":[{\"name\":\"success\",\"type\":\"bool\"}],\"payable\":false,\"type\":\"function\"},{\"constant\":true,\"inputs\":[{\"name\":\"\",\"type\":\"address\"},{\"name\":\"\",\"type\":\"address\"}],\"name\":\"allowance\",\"outputs\":[{\"name\":\"\",\"type\":\"uint256\"}],\"payable\":false,\"type\":\"function\"},{\"inputs\":[{\"name\":\"initialSupply\",\"type\":\"uint256\"},{\"name\":\"tokenName\",\"type\":\"string\"},{\"name\":\"decimalUnits\",\"type\":\"uint8\"},{\"name\":\"tokenSymbol\",\"type\":\"string\"}],\"payable\":false,\"type\":\"constructor\"},{\"payable\":false,\"type\":\"fallback\"},{\"anonymous\":false,\"inputs\":[{\"indexed\":true,\"name\":\"from\",\"type\":\"address\"},{\"indexed\":true,\"name\":\"to\",\"type\":\"address\"},{\"indexed\":false,\"name\":\"value\",\"type\":\"uint256\"}],\"name\":\"Transfer\",\"type\":\"event\"}]\\'}',)]\n"
     ]
    }
   ],
   "source": [
    "c.execute(\"SELECT abi_json FROM contract_registry WHERE address = '0x0ef97d3e342b29c18bcbcb0426e3b5de4879c53c'\")\n",
    "print(c.fetchall())"
   ]
  },
  {
   "cell_type": "code",
   "execution_count": null,
   "id": "2f396437",
   "metadata": {},
   "outputs": [],
   "source": []
  }
 ],
 "metadata": {
  "kernelspec": {
   "display_name": "Python 3.9.13 ('notebook')",
   "language": "python",
   "name": "python3"
  },
  "language_info": {
   "codemirror_mode": {
    "name": "ipython",
    "version": 3
   },
   "file_extension": ".py",
   "mimetype": "text/x-python",
   "name": "python",
   "nbconvert_exporter": "python",
   "pygments_lexer": "ipython3",
   "version": "3.9.13"
  },
  "vscode": {
   "interpreter": {
    "hash": "19281fdfa4f2c6adf910337745ffb3ae4f3651ce0dcb0abb3f3a2e5fdeaac727"
   }
  }
 },
 "nbformat": 4,
 "nbformat_minor": 5
}
